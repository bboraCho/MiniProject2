{
 "cells": [
  {
   "cell_type": "code",
   "execution_count": 1,
   "metadata": {},
   "outputs": [],
   "source": [
    "import pandas as pd\n",
    "import numpy as np\n",
    "import os\n",
    "from bs4 import BeautifulSoup  #html 문서 파싱 라이브러리\n",
    "from urllib.request import urlopen  #웹문서 여는 라이브러리\n",
    "from urllib.parse import quote\n"
   ]
  },
  {
   "cell_type": "code",
   "execution_count": 2,
   "metadata": {},
   "outputs": [
    {
     "name": "stdout",
     "output_type": "stream",
     "text": [
      "https://www.donga.com/news/article/all/20210428/106650048/1\n",
      "https://www.donga.com/news/article/all/20210417/106454564/1\n",
      "https://www.donga.com/news/article/all/20210409/106338153/1\n",
      "https://www.donga.com/news/article/all/20210317/105919248/1\n",
      "https://www.donga.com/news/article/all/20210205/105293635/1\n",
      "https://bizn.donga.com/3/all/20200514/101041667/2\n",
      "https://bizn.donga.com/3/all/20200514/101041667/3\n",
      "https://bizn.donga.com/3/all/20200506/100918705/2\n",
      "https://bizn.donga.com/3/all/20200216/99725003/2\n",
      "https://bizn.donga.com/3/all/20190901/97213698/2\n",
      "https://sports.donga.com/article/all/20210503/106737319/1\n",
      "https://sports.donga.com/article/all/20210502/106721734/3\n",
      "https://sports.donga.com/article/all/20210425/106603369/3\n",
      "https://sports.donga.com/article/all/20210407/106296225/3\n",
      "https://sports.donga.com/article/all/20210121/105038109/3\n"
     ]
    }
   ],
   "source": [
    "path = os.path.abspath('C:/Users/KOSTA/eclipse-workspace/aaa/src/main/webapp/dongaMovieList.jsp')\n",
    "#C:/Users/KOSTA/eclipse-workspace/aaa/src/main/webapp/dongaMovieList.jsp\n",
    "#'C:/Users/KOSTA/git/Miniproject02/miniproject02/WebContent/smartHome/light_analytic2.jsp\n",
    "url = 'file://' + path\n",
    "\n",
    "searchWord = '박스오피스 순위'\n",
    "url2 = '''https://www.donga.com/news/search?query='''+ quote(searchWord)\n",
    "soup = BeautifulSoup(urlopen(url2).read(),'html.parser',from_encoding='utf-8')  #html 파싱\n",
    "soup.find_all('p',{'class':'tit'})\n",
    "\n",
    "total_text = []\n",
    "for title in soup.find_all('p',{'class':'tit'}):\n",
    "    link_url = title.find('a')['href']  #title 링크들만 걸러서 출력.\n",
    "    bs = BeautifulSoup(urlopen(link_url).read(),'html.parser',from_encoding='utf-8')\n",
    "    article_txt = bs.find('div',{'class':'article_txt'})\n",
    "  \n",
    "    if type(article_txt) != type(None):\n",
    "        print(link_url)\n",
    "        #total_text.append(str(bs.find('div',{'class':'article_txt'})))\n",
    "        total_text.append(link_url)\n",
    "        \n",
    "\n",
    "movie = pd.DataFrame(total_text, columns=['url'])\n",
    "html = movie.to_html(index=False, justify='center')\n",
    "#html2 = movie.to_html(\"donaMovie.html\")\n",
    "#html2"
   ]
  },
  {
   "cell_type": "code",
   "execution_count": 3,
   "metadata": {},
   "outputs": [],
   "source": [
    "with open(path, 'w') as f:\n",
    "    f.write(html)"
   ]
  },
  {
   "cell_type": "code",
   "execution_count": null,
   "metadata": {},
   "outputs": [],
   "source": []
  }
 ],
 "metadata": {
  "kernelspec": {
   "display_name": "Python 3",
   "language": "python",
   "name": "python3"
  },
  "language_info": {
   "codemirror_mode": {
    "name": "ipython",
    "version": 3
   },
   "file_extension": ".py",
   "mimetype": "text/x-python",
   "name": "python",
   "nbconvert_exporter": "python",
   "pygments_lexer": "ipython3",
   "version": "3.8.5"
  }
 },
 "nbformat": 4,
 "nbformat_minor": 4
}
